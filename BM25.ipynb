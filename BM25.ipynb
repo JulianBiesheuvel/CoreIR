{
 "cells": [
  {
   "cell_type": "code",
   "execution_count": 1,
   "id": "79669a4d",
   "metadata": {},
   "outputs": [
    {
     "name": "stderr",
     "output_type": "stream",
     "text": [
      "PyTerrier 0.8.0 has loaded Terrier 5.6 (built by craigmacdonald on 2021-09-17 13:27)\n",
      "\n"
     ]
    }
   ],
   "source": [
    "# Import all the needed libraries\n",
    "import pyterrier as pt\n",
    "import pandas as pd\n",
    "from tqdm import tqdm\n",
    "import numpy as np\n",
    "import matplotlib.pyplot as plt\n",
    "import algos\n",
    "import os\n",
    "if not pt.started():\n",
    "    pt.init()"
   ]
  },
  {
   "cell_type": "code",
   "execution_count": 2,
   "id": "e308bccb",
   "metadata": {},
   "outputs": [],
   "source": [
    "# Load the dataset\n",
    "dataset = pt.datasets.get_dataset(\"trec-deep-learning-passages\")"
   ]
  },
  {
   "cell_type": "code",
   "execution_count": 3,
   "id": "2b244eb3",
   "metadata": {},
   "outputs": [],
   "source": [
    "index_ref = pt.IndexRef.of(os.getcwd() + \"./passage_index/data.properties\")"
   ]
  },
  {
   "cell_type": "code",
   "execution_count": 4,
   "id": "e2eafdc3",
   "metadata": {},
   "outputs": [
    {
     "name": "stdout",
     "output_type": "stream",
     "text": [
      "18:33:42.541 [main] WARN org.terrier.structures.BaseCompressingMetaIndex - Structure meta reading data file directly from disk (SLOW) - try index.meta.data-source=fileinmem in the index properties file. 1,9 GiB of memory would be required.\r\n"
     ]
    }
   ],
   "source": [
    "index = pt.IndexFactory.of(index_ref)"
   ]
  },
  {
   "cell_type": "code",
   "execution_count": 5,
   "id": "7699f573",
   "metadata": {},
   "outputs": [
    {
     "name": "stdout",
     "output_type": "stream",
     "text": [
      "Number of documents: 8841823\n",
      "Number of terms: 1170682\n",
      "Number of postings: 215238456\n",
      "Number of fields: 1\n",
      "Number of tokens: 288759529\n",
      "Field names: [text]\n",
      "Positions:   false\n",
      "\n"
     ]
    }
   ],
   "source": [
    "print(index.getCollectionStatistics().toString())"
   ]
  },
  {
   "cell_type": "code",
   "execution_count": 6,
   "id": "57ca526e",
   "metadata": {},
   "outputs": [],
   "source": [
    "bm25 = pt.BatchRetrieve(index, wmodel=\"BM25\")"
   ]
  },
  {
   "cell_type": "code",
   "execution_count": 7,
   "id": "accaba46",
   "metadata": {},
   "outputs": [
    {
     "name": "stdout",
     "output_type": "stream",
     "text": [
      "18:33:42.686 [main] WARN org.terrier.applications.batchquerying.TRECQuery - trec.encoding is not set; resorting to platform default (windows-1252). Retrieval may be platform dependent. Recommend trec.encoding=UTF-8\r\n"
     ]
    }
   ],
   "source": [
    "qrels = dataset.get_qrels(\"test-2019\")\n",
    "res = algos.get_all_scores(dataset, bm25)"
   ]
  },
  {
   "cell_type": "code",
   "execution_count": 8,
   "id": "11d36c46",
   "metadata": {},
   "outputs": [
    {
     "name": "stdout",
     "output_type": "stream",
     "text": [
      "18:34:23.118 [main] WARN org.terrier.applications.batchquerying.TRECQuery - trec.encoding is not set; resorting to platform default (windows-1252). Retrieval may be platform dependent. Recommend trec.encoding=UTF-8\r\n"
     ]
    },
    {
     "data": {
      "text/html": [
       "<div>\n",
       "<style scoped>\n",
       "    .dataframe tbody tr th:only-of-type {\n",
       "        vertical-align: middle;\n",
       "    }\n",
       "\n",
       "    .dataframe tbody tr th {\n",
       "        vertical-align: top;\n",
       "    }\n",
       "\n",
       "    .dataframe thead th {\n",
       "        text-align: right;\n",
       "    }\n",
       "</style>\n",
       "<table border=\"1\" class=\"dataframe\">\n",
       "  <thead>\n",
       "    <tr style=\"text-align: right;\">\n",
       "      <th></th>\n",
       "      <th>name</th>\n",
       "      <th>ndcg</th>\n",
       "      <th>map</th>\n",
       "      <th>recip_rank</th>\n",
       "    </tr>\n",
       "  </thead>\n",
       "  <tbody>\n",
       "    <tr>\n",
       "      <th>0</th>\n",
       "      <td>BR(BM25)</td>\n",
       "      <td>0.593</td>\n",
       "      <td>0.37</td>\n",
       "      <td>0.795</td>\n",
       "    </tr>\n",
       "  </tbody>\n",
       "</table>\n",
       "</div>"
      ],
      "text/plain": [
       "       name   ndcg   map  recip_rank\n",
       "0  BR(BM25)  0.593  0.37       0.795"
      ]
     },
     "execution_count": 8,
     "metadata": {},
     "output_type": "execute_result"
    }
   ],
   "source": [
    "pt.Experiment(\n",
    "  [bm25],\n",
    "  dataset.get_topics(\"test-2019\"), \n",
    "  dataset.get_qrels(\"test-2019\"),\n",
    "  eval_metrics=[\"ndcg\", \"map\", \"recip_rank\"], \n",
    "  # perquery = \"true\",\n",
    "  # baseline=0,\n",
    "  round=3,\n",
    ")"
   ]
  },
  {
   "cell_type": "code",
   "execution_count": 9,
   "id": "b7bf8563",
   "metadata": {},
   "outputs": [],
   "source": [
    "eval = pt.Utils.evaluate(res, qrels, metrics = [\"recip_rank\"], perquery = True)"
   ]
  },
  {
   "cell_type": "code",
   "execution_count": null,
   "id": "7514e302",
   "metadata": {},
   "outputs": [],
   "source": [
    "# only 43 queries with qrels available in the collection"
   ]
  },
  {
   "cell_type": "code",
   "execution_count": null,
   "id": "d2c91eef",
   "metadata": {},
   "outputs": [],
   "source": [
    "eval"
   ]
  },
  {
   "cell_type": "code",
   "execution_count": null,
   "id": "c759c3d4",
   "metadata": {},
   "outputs": [],
   "source": [
    "# we need for each query id the most relevant document, and the recip procal rank and the query itself\n",
    "# [[qid], [RR], [query]]"
   ]
  },
  {
   "cell_type": "code",
   "execution_count": null,
   "id": "310b50e5",
   "metadata": {},
   "outputs": [],
   "source": [
    "qids = [i for i in eval]\n",
    "RR = [eval[j]['recip_rank'] for j in eval]\n",
    "\n",
    "info = []\n",
    "    \n",
    "for qid in qids:\n",
    "    info.append(str(res[res['qid']==str(qid)].iloc[0][\"query\"]))\n",
    "                \n",
    "print(info)"
   ]
  },
  {
   "cell_type": "code",
   "execution_count": null,
   "id": "cf2ba10c",
   "metadata": {},
   "outputs": [],
   "source": [
    "queries = pd.DataFrame({\"qid\":qids,\"mrr\":RR,\"query\":info})\n"
   ]
  },
  {
   "cell_type": "code",
   "execution_count": null,
   "id": "d6a45646",
   "metadata": {},
   "outputs": [],
   "source": [
    "queries = queries[21:]"
   ]
  },
  {
   "cell_type": "code",
   "execution_count": null,
   "id": "ada16cda",
   "metadata": {},
   "outputs": [],
   "source": [
    "queries.to_csv(\"Query20Part2.csv\",index=False)"
   ]
  },
  {
   "cell_type": "code",
   "execution_count": null,
   "id": "7bffcc62",
   "metadata": {},
   "outputs": [],
   "source": [
    "# Return the top-1 ranked document for all queries in the test set\n",
    "def get_topRanked_doc(queries, index_ref):\n",
    "    docs = []\n",
    "    # count = 0\n",
    "    for query in list(queries['query']):\n",
    "        # if count == 20 : break\n",
    "        # Search for the passage given the docno\n",
    "        print(query)\n",
    "        df = pt.BatchRetrieve(index_ref).search(query)[0:1]\n",
    "        doc = (algos.search_with_doc_id(int(df['docid'])))\n",
    "        docs.append(len(doc.split()))\n",
    "        # count += 1\n",
    "    return docs"
   ]
  },
  {
   "cell_type": "code",
   "execution_count": null,
   "id": "827860b9",
   "metadata": {},
   "outputs": [],
   "source": [
    "docs_lengths = get_topRanked_doc(queries, index_ref)\n",
    "query_lengths = [len(query.split()) for query in list(queries['query'])]"
   ]
  },
  {
   "cell_type": "code",
   "execution_count": null,
   "id": "59eadc8f",
   "metadata": {},
   "outputs": [],
   "source": [
    "queries['doc_length'] = docs_lengths\n",
    "queries['query_length'] = query_lengths"
   ]
  },
  {
   "cell_type": "code",
   "execution_count": null,
   "id": "348ab161",
   "metadata": {},
   "outputs": [],
   "source": [
    "queries"
   ]
  },
  {
   "cell_type": "code",
   "execution_count": null,
   "id": "240cd135",
   "metadata": {},
   "outputs": [],
   "source": [
    "queries.to_csv(\"Query20Part2WithLengths.csv\",index=False)"
   ]
  },
  {
   "cell_type": "code",
   "execution_count": null,
   "id": "40841472",
   "metadata": {},
   "outputs": [],
   "source": [
    "plt.scatter(x = queries[queries[\"mrr\"]>0.5][\"doc_length\"], y = queries[queries[\"mrr\"]>0.5][\"query_length\"],\n",
    "           marker='D',\n",
    "           color='red',\n",
    "           label='score > 0.5')\n",
    "plt.scatter(x =  queries[queries[\"mrr\"]<=0.5][\"doc_length\"], y = queries[queries[\"mrr\"]<=0.5][\"query_length\"] ,\n",
    "           marker='o',\n",
    "           color='blue',\n",
    "           label='score <= 0.5')\n",
    "plt.title('Query length vs. Document length')\n",
    "plt.xlabel('Document length')\n",
    "plt.ylabel('Query length')\n",
    "plt.legend(title=\"MRR\", loc=4, fontsize='small', fancybox=True)\n",
    "plt.show()"
   ]
  },
  {
   "cell_type": "code",
   "execution_count": null,
   "id": "b4d1bdf5",
   "metadata": {},
   "outputs": [],
   "source": [
    "# We assumed that longer query, we also assumed that the MRR would be higher but that does not seem the case"
   ]
  },
  {
   "cell_type": "code",
   "execution_count": null,
   "id": "8b3ac5c2",
   "metadata": {},
   "outputs": [],
   "source": [
    "df1 = pd.read_csv(\"Query20WithLengths.csv\")"
   ]
  },
  {
   "cell_type": "code",
   "execution_count": null,
   "id": "d5a85903",
   "metadata": {},
   "outputs": [],
   "source": [
    "frames = [df1, queries]\n",
    "result = pd.concat(frames)\n",
    "result"
   ]
  },
  {
   "cell_type": "code",
   "execution_count": null,
   "id": "3e4d8f40",
   "metadata": {},
   "outputs": [],
   "source": [
    "plt.scatter(x = result[result[\"mrr\"]>0.5][\"doc_length\"], y = result[result[\"mrr\"]>0.5][\"query_length\"],\n",
    "           marker='D',\n",
    "           color='red',\n",
    "           label='score > 0.5')\n",
    "plt.scatter(x =  result[result[\"mrr\"]<=0.5][\"doc_length\"], y = result[result[\"mrr\"]<=0.5][\"query_length\"] ,\n",
    "           marker='o',\n",
    "           color='blue',\n",
    "           label='score <= 0.5')\n",
    "plt.title('Query length vs. Document length')\n",
    "plt.xlabel('Document length')\n",
    "plt.ylabel('Query length')\n",
    "plt.legend(title=\"MRR\", loc=4, fontsize='small', fancybox=True)\n",
    "plt.savefig('QueryLengthVSDocumentLength.svg')"
   ]
  },
  {
   "cell_type": "code",
   "execution_count": null,
   "id": "e260beed",
   "metadata": {},
   "outputs": [],
   "source": [
    "result.to_csv(\"QueriesAllLengths.csv\",index=False)"
   ]
  },
  {
   "cell_type": "code",
   "execution_count": null,
   "id": "bac13762",
   "metadata": {},
   "outputs": [],
   "source": [
    "result = pd.read_csv(\"QueriesAllLengths.csv\")"
   ]
  },
  {
   "cell_type": "code",
   "execution_count": null,
   "id": "dc08da47",
   "metadata": {},
   "outputs": [],
   "source": [
    "score = []\n",
    "for qid in list(result[\"qid\"]):\n",
    "    df1 = res[(res[\"qid\"]==str(qid)) & (res[\"rank\"]==0)]\n",
    "    score.append(float(df1[\"score\"]))\n",
    "    #info.append(str(res[res['qid']==str(qid)].iloc[0][\"query\"]))\n",
    "result[\"score\"] = score"
   ]
  },
  {
   "cell_type": "code",
   "execution_count": null,
   "id": "f9290160",
   "metadata": {},
   "outputs": [],
   "source": [
    "result.to_csv(\"QueriesAllLengthScore.csv\", index=False)"
   ]
  },
  {
   "cell_type": "code",
   "execution_count": null,
   "id": "81f296c1",
   "metadata": {},
   "outputs": [],
   "source": [
    "plt.scatter(result['doc_length'], result['score'])\n",
    "plt.title('Relevancy vs. Document length')\n",
    "plt.xlabel('Document length')\n",
    "plt.ylabel('Relevancy')\n",
    "# plt.legend(title=\"MRR\", loc=4, fontsize='small', fancybox=True)\n",
    "plt.savefig('DocumentVsRelvancy.svg')\n",
    "plt.show()"
   ]
  },
  {
   "cell_type": "code",
   "execution_count": null,
   "id": "ac30039c",
   "metadata": {},
   "outputs": [],
   "source": [
    "import numpy as np\n",
    "import statistics\n",
    "\n",
    "list1 = result[result['query_length']==1]['score']\n",
    "print(\"list1:\", list1)\n",
    "list2 = result[result['query_length']==2]['score']\n",
    "print(\"\\nlist2:\",list2)\n",
    "list3 = result[result['query_length']==3]['score']\n",
    "list4 = result[result['query_length']==4]['score']\n",
    "list5 = result[result['query_length']==5]['score']\n",
    "list6 = result[result['query_length']==6]['score']\n",
    "list7 = result[result['query_length']==7]['score']\n",
    "list8 = result[result['query_length']==8]['score']\n",
    "list9 = result[result['query_length']==9]['score']\n",
    "\n",
    "print(\"Max query len = \",max(result['query_length']))\n",
    "plt.boxplot([list1,list2,list3,list4,list5,list6,list7,list8,list9])\n",
    "\n",
    "plt.plot(range(2,10),\n",
    "         [statistics.median(list2),statistics.median(list3),statistics.median(list4),statistics.median(list5),statistics.median(list6),statistics.median(list7),statistics.median(list8),statistics.median(list9)])\n",
    "\n",
    "plt.title('Relevancy vs. Query length')\n",
    "plt.xlabel('Query length')\n",
    "plt.ylabel('Relevancy')\n",
    "# plt.legend(title=\"MRR\", loc=4, fontsize='small', fancybox=True)\n",
    "plt.savefig('QueryVsRelvancy.svg')\n",
    "plt.show()"
   ]
  },
  {
   "cell_type": "code",
   "execution_count": null,
   "id": "4e9b6177",
   "metadata": {},
   "outputs": [],
   "source": [
    "####################################################################################################################\n",
    "#####WHAT IS THE RESON THAT QUERIES FOR WHICH THE QREL IS PROVIDED, NO DOCUMENTS ARE RETRIEVED IN THE TOP1000?######\n",
    "####################################################################################################################"
   ]
  },
  {
   "cell_type": "code",
   "execution_count": 117,
   "id": "ae614ec4",
   "metadata": {},
   "outputs": [],
   "source": [
    "import gc\n",
    "#def given qrels dataset, return if qid, docid exists in ranked model\n",
    "def check_qrel_queries():\n",
    "    temp1 = dataset.get_topicsqrels(\"train\")[0]\n",
    "    queries_df = temp1.sort_values(by=['qid']).head(1000)\n",
    "    temp2 = dataset.get_topicsqrels(\"train\")[1]\n",
    "    qrels_df = temp2.sort_values(by=['qid']).head(1000)\n",
    "    \n",
    "    docs_qrels = pd.DataFrame(columns =['rank','docid','score','qid'])\n",
    "\n",
    "    for qid in list(queries_df[\"qid\"]):\n",
    "        # One particular query\n",
    "        qrels_queries = qrels_df[qrels_df[\"qid\"] == qid]\n",
    "        \n",
    "        if len(qrels_queries) == 0:\n",
    "            # print(\"qid:\" + str(qid) + \"does not exist\")\n",
    "            continue\n",
    "            \n",
    "        docNo = qrels_queries.iloc[0][\"docno\"]        \n",
    "        query = queries_df[queries_df[\"qid\"] == qid].iloc[0][\"query\"]\n",
    "        \n",
    "        # Returns the top 1000 relevant documents for this query (that has as qrel)\n",
    "        result = bm25.search(query)\n",
    "        \n",
    "        docs_qrels = docs_qrels.append(check_rel_doc_present(docNo, qid, query, result), ignore_index=True)\n",
    "        \n",
    "        del result\n",
    "        del qrels_queries\n",
    "        gc.collect()\n",
    "        \n",
    "    \n",
    "    return docs_qrels\n",
    "\n",
    "#given a docid, search if the doc id exists in result.\n",
    "def check_rel_doc_present(docid, qid, query, result):\n",
    "\n",
    "    # Hypothesis that this if statement is always true\n",
    "    if docid in list(result[\"docno\"]):\n",
    "        R = result[result[\"docno\"]==docid]\n",
    "        rank = R.iloc[0][\"rank\"]\n",
    "        score = R.iloc[0][\"score\"]\n",
    "        doc_id = R.iloc[0][\"docid\"]\n",
    "        # print(\"rank : \", rank)\n",
    "        # print(\"score: \", score)\n",
    "        # print(\"docid : \", doc_id)\n",
    "        return {\"rank\":rank, \"docid\":doc_id, \"score\":round(score,2), \"qid\":qid, \"query\":query}\n",
    "    else:\n",
    "        # Then we have document that were not found in the top-1000 ranked documents despite \n",
    "        # the query they belong to had a qrel provided\n",
    "        \n",
    "        # print(\"not found\")\n",
    "        return {\"rank\":-1, \"docid\":docid, \"score\":-1, \"qid\":qid, \"query\":query}"
   ]
  },
  {
   "cell_type": "code",
   "execution_count": 118,
   "id": "c02f18ea",
   "metadata": {},
   "outputs": [
    {
     "name": "stdout",
     "output_type": "stream",
     "text": [
      "19:25:27.374 [main] WARN org.terrier.applications.batchquerying.TRECQuery - trec.encoding is not set; resorting to platform default (windows-1252). Retrieval may be platform dependent. Recommend trec.encoding=UTF-8\n",
      "19:25:42.673 [main] WARN org.terrier.applications.batchquerying.TRECQuery - trec.encoding is not set; resorting to platform default (windows-1252). Retrieval may be platform dependent. Recommend trec.encoding=UTF-8\n"
     ]
    }
   ],
   "source": [
    "temp = check_qrel_queries()"
   ]
  },
  {
   "cell_type": "code",
   "execution_count": 119,
   "id": "c6e30c2d",
   "metadata": {},
   "outputs": [
    {
     "data": {
      "text/html": [
       "<div>\n",
       "<style scoped>\n",
       "    .dataframe tbody tr th:only-of-type {\n",
       "        vertical-align: middle;\n",
       "    }\n",
       "\n",
       "    .dataframe tbody tr th {\n",
       "        vertical-align: top;\n",
       "    }\n",
       "\n",
       "    .dataframe thead th {\n",
       "        text-align: right;\n",
       "    }\n",
       "</style>\n",
       "<table border=\"1\" class=\"dataframe\">\n",
       "  <thead>\n",
       "    <tr style=\"text-align: right;\">\n",
       "      <th></th>\n",
       "      <th>rank</th>\n",
       "      <th>docid</th>\n",
       "      <th>score</th>\n",
       "      <th>qid</th>\n",
       "      <th>query</th>\n",
       "    </tr>\n",
       "  </thead>\n",
       "  <tbody>\n",
       "    <tr>\n",
       "      <th>0</th>\n",
       "      <td>2</td>\n",
       "      <td>3837260</td>\n",
       "      <td>41.86</td>\n",
       "      <td>100</td>\n",
       "      <td>of earths crust is dysprosium</td>\n",
       "    </tr>\n",
       "    <tr>\n",
       "      <th>1</th>\n",
       "      <td>3</td>\n",
       "      <td>1936056</td>\n",
       "      <td>55.86</td>\n",
       "      <td>10000</td>\n",
       "      <td>about what proportion of quebec s population s...</td>\n",
       "    </tr>\n",
       "    <tr>\n",
       "      <th>2</th>\n",
       "      <td>190</td>\n",
       "      <td>3617179</td>\n",
       "      <td>17.54</td>\n",
       "      <td>1000005</td>\n",
       "      <td>where is westminster california</td>\n",
       "    </tr>\n",
       "    <tr>\n",
       "      <th>3</th>\n",
       "      <td>38</td>\n",
       "      <td>5939245</td>\n",
       "      <td>20.03</td>\n",
       "      <td>1000007</td>\n",
       "      <td>where is westminster ma</td>\n",
       "    </tr>\n",
       "    <tr>\n",
       "      <th>4</th>\n",
       "      <td>0</td>\n",
       "      <td>4630854</td>\n",
       "      <td>31.57</td>\n",
       "      <td>1000008</td>\n",
       "      <td>where is westminster md</td>\n",
       "    </tr>\n",
       "    <tr>\n",
       "      <th>...</th>\n",
       "      <td>...</td>\n",
       "      <td>...</td>\n",
       "      <td>...</td>\n",
       "      <td>...</td>\n",
       "      <td>...</td>\n",
       "    </tr>\n",
       "    <tr>\n",
       "      <th>686</th>\n",
       "      <td>998</td>\n",
       "      <td>2011677</td>\n",
       "      <td>16.78</td>\n",
       "      <td>100125</td>\n",
       "      <td>cortana who are the forerunners</td>\n",
       "    </tr>\n",
       "    <tr>\n",
       "      <th>687</th>\n",
       "      <td>94</td>\n",
       "      <td>5714439</td>\n",
       "      <td>21.75</td>\n",
       "      <td>100126</td>\n",
       "      <td>cortana who is arbiter</td>\n",
       "    </tr>\n",
       "    <tr>\n",
       "      <th>688</th>\n",
       "      <td>-1</td>\n",
       "      <td>4670229</td>\n",
       "      <td>-1.00</td>\n",
       "      <td>1001260</td>\n",
       "      <td>where to buy make up from accessorize uk</td>\n",
       "    </tr>\n",
       "    <tr>\n",
       "      <th>689</th>\n",
       "      <td>2</td>\n",
       "      <td>4402712</td>\n",
       "      <td>68.32</td>\n",
       "      <td>1001262</td>\n",
       "      <td>where to buy maui jim prescription sunglasses</td>\n",
       "    </tr>\n",
       "    <tr>\n",
       "      <th>690</th>\n",
       "      <td>3</td>\n",
       "      <td>4564764</td>\n",
       "      <td>48.07</td>\n",
       "      <td>1001264</td>\n",
       "      <td>where to buy millett scopes</td>\n",
       "    </tr>\n",
       "  </tbody>\n",
       "</table>\n",
       "<p>691 rows × 5 columns</p>\n",
       "</div>"
      ],
      "text/plain": [
       "    rank    docid  score      qid  \\\n",
       "0      2  3837260  41.86      100   \n",
       "1      3  1936056  55.86    10000   \n",
       "2    190  3617179  17.54  1000005   \n",
       "3     38  5939245  20.03  1000007   \n",
       "4      0  4630854  31.57  1000008   \n",
       "..   ...      ...    ...      ...   \n",
       "686  998  2011677  16.78   100125   \n",
       "687   94  5714439  21.75   100126   \n",
       "688   -1  4670229  -1.00  1001260   \n",
       "689    2  4402712  68.32  1001262   \n",
       "690    3  4564764  48.07  1001264   \n",
       "\n",
       "                                                 query  \n",
       "0                        of earths crust is dysprosium  \n",
       "1    about what proportion of quebec s population s...  \n",
       "2                      where is westminster california  \n",
       "3                              where is westminster ma  \n",
       "4                              where is westminster md  \n",
       "..                                                 ...  \n",
       "686                    cortana who are the forerunners  \n",
       "687                             cortana who is arbiter  \n",
       "688           where to buy make up from accessorize uk  \n",
       "689      where to buy maui jim prescription sunglasses  \n",
       "690                        where to buy millett scopes  \n",
       "\n",
       "[691 rows x 5 columns]"
      ]
     },
     "execution_count": 119,
     "metadata": {},
     "output_type": "execute_result"
    }
   ],
   "source": [
    "temp"
   ]
  },
  {
   "cell_type": "code",
   "execution_count": 121,
   "id": "d9e7b535",
   "metadata": {},
   "outputs": [],
   "source": [
    "temp.to_csv(\"QUERIES_W_QRESL_RETRIEVED_AND_NOT_RETRIEVED.csv\", index=False)"
   ]
  },
  {
   "cell_type": "code",
   "execution_count": 112,
   "id": "bad6f8f6",
   "metadata": {},
   "outputs": [],
   "source": [
    "# Now we are going to sort the queries bases on their rank aka if rank == -1 we are putting those in a new dataframe"
   ]
  },
  {
   "cell_type": "code",
   "execution_count": 113,
   "id": "b5dc1445",
   "metadata": {},
   "outputs": [],
   "source": [
    "DOCS = pd.read_csv(\"./collection.tsv\", sep='\\t', header=1, names=[\"passage\"])\n"
   ]
  },
  {
   "cell_type": "code",
   "execution_count": 114,
   "id": "53c3330e",
   "metadata": {},
   "outputs": [
    {
     "data": {
      "text/html": [
       "<div>\n",
       "<style scoped>\n",
       "    .dataframe tbody tr th:only-of-type {\n",
       "        vertical-align: middle;\n",
       "    }\n",
       "\n",
       "    .dataframe tbody tr th {\n",
       "        vertical-align: top;\n",
       "    }\n",
       "\n",
       "    .dataframe thead th {\n",
       "        text-align: right;\n",
       "    }\n",
       "</style>\n",
       "<table border=\"1\" class=\"dataframe\">\n",
       "  <thead>\n",
       "    <tr style=\"text-align: right;\">\n",
       "      <th></th>\n",
       "      <th>passage</th>\n",
       "    </tr>\n",
       "  </thead>\n",
       "  <tbody>\n",
       "    <tr>\n",
       "      <th>2</th>\n",
       "      <td>Essay on The Manhattan Project - The Manhattan...</td>\n",
       "    </tr>\n",
       "    <tr>\n",
       "      <th>3</th>\n",
       "      <td>The Manhattan Project was the name for a proje...</td>\n",
       "    </tr>\n",
       "    <tr>\n",
       "      <th>4</th>\n",
       "      <td>versions of each volume as well as complementa...</td>\n",
       "    </tr>\n",
       "    <tr>\n",
       "      <th>5</th>\n",
       "      <td>The Manhattan Project. This once classified ph...</td>\n",
       "    </tr>\n",
       "    <tr>\n",
       "      <th>6</th>\n",
       "      <td>Nor will it attempt to substitute for the extr...</td>\n",
       "    </tr>\n",
       "    <tr>\n",
       "      <th>...</th>\n",
       "      <td>...</td>\n",
       "    </tr>\n",
       "    <tr>\n",
       "      <th>8841818</th>\n",
       "      <td>When metal salts emit short wavelengths of vis...</td>\n",
       "    </tr>\n",
       "    <tr>\n",
       "      <th>8841819</th>\n",
       "      <td>Thousands of people across the United States w...</td>\n",
       "    </tr>\n",
       "    <tr>\n",
       "      <th>8841820</th>\n",
       "      <td>The recipe that creates blue, for example, inc...</td>\n",
       "    </tr>\n",
       "    <tr>\n",
       "      <th>8841821</th>\n",
       "      <td>On Independence Days of yore, old-timey crowds...</td>\n",
       "    </tr>\n",
       "    <tr>\n",
       "      <th>8841822</th>\n",
       "      <td>View full size image. Behind the scenes of the...</td>\n",
       "    </tr>\n",
       "  </tbody>\n",
       "</table>\n",
       "<p>8841821 rows × 1 columns</p>\n",
       "</div>"
      ],
      "text/plain": [
       "                                                   passage\n",
       "2        Essay on The Manhattan Project - The Manhattan...\n",
       "3        The Manhattan Project was the name for a proje...\n",
       "4        versions of each volume as well as complementa...\n",
       "5        The Manhattan Project. This once classified ph...\n",
       "6        Nor will it attempt to substitute for the extr...\n",
       "...                                                    ...\n",
       "8841818  When metal salts emit short wavelengths of vis...\n",
       "8841819  Thousands of people across the United States w...\n",
       "8841820  The recipe that creates blue, for example, inc...\n",
       "8841821  On Independence Days of yore, old-timey crowds...\n",
       "8841822  View full size image. Behind the scenes of the...\n",
       "\n",
       "[8841821 rows x 1 columns]"
      ]
     },
     "execution_count": 114,
     "metadata": {},
     "output_type": "execute_result"
    }
   ],
   "source": [
    "DOCS"
   ]
  },
  {
   "cell_type": "code",
   "execution_count": 122,
   "id": "f8271251",
   "metadata": {},
   "outputs": [],
   "source": [
    "queries_without_doc_retrieved = temp[temp['score']==(-1.00)]\n",
    "# THESE ARE THE QUERIES FOR WHICH A QREL IS PROVIDED, BUT THE MODEL DID NOT RETRIEVE A DOCUMENT (WAS NOT IN THE \n",
    "# TOP 1000)"
   ]
  },
  {
   "cell_type": "code",
   "execution_count": 123,
   "id": "05261ef9",
   "metadata": {},
   "outputs": [],
   "source": [
    "queries_without_doc_retrieved = queries_without_doc_retrieved.head(10)"
   ]
  },
  {
   "cell_type": "code",
   "execution_count": 124,
   "id": "0e07b26d",
   "metadata": {},
   "outputs": [
    {
     "data": {
      "text/html": [
       "<div>\n",
       "<style scoped>\n",
       "    .dataframe tbody tr th:only-of-type {\n",
       "        vertical-align: middle;\n",
       "    }\n",
       "\n",
       "    .dataframe tbody tr th {\n",
       "        vertical-align: top;\n",
       "    }\n",
       "\n",
       "    .dataframe thead th {\n",
       "        text-align: right;\n",
       "    }\n",
       "</style>\n",
       "<table border=\"1\" class=\"dataframe\">\n",
       "  <thead>\n",
       "    <tr style=\"text-align: right;\">\n",
       "      <th></th>\n",
       "      <th>rank</th>\n",
       "      <th>docid</th>\n",
       "      <th>score</th>\n",
       "      <th>qid</th>\n",
       "      <th>query</th>\n",
       "    </tr>\n",
       "  </thead>\n",
       "  <tbody>\n",
       "    <tr>\n",
       "      <th>29</th>\n",
       "      <td>-1</td>\n",
       "      <td>2640014</td>\n",
       "      <td>-1.0</td>\n",
       "      <td>1000041</td>\n",
       "      <td>where is wheat grown mainly state</td>\n",
       "    </tr>\n",
       "    <tr>\n",
       "      <th>36</th>\n",
       "      <td>-1</td>\n",
       "      <td>4496957</td>\n",
       "      <td>-1.0</td>\n",
       "      <td>1000052</td>\n",
       "      <td>where is whip coral harvested</td>\n",
       "    </tr>\n",
       "    <tr>\n",
       "      <th>53</th>\n",
       "      <td>-1</td>\n",
       "      <td>4660814</td>\n",
       "      <td>-1.0</td>\n",
       "      <td>1000089</td>\n",
       "      <td>where is whitehall kentucky</td>\n",
       "    </tr>\n",
       "    <tr>\n",
       "      <th>60</th>\n",
       "      <td>-1</td>\n",
       "      <td>3943327</td>\n",
       "      <td>-1.0</td>\n",
       "      <td>100010</td>\n",
       "      <td>cortana what is polygamy</td>\n",
       "    </tr>\n",
       "    <tr>\n",
       "      <th>94</th>\n",
       "      <td>-1</td>\n",
       "      <td>3035531</td>\n",
       "      <td>-1.0</td>\n",
       "      <td>100015</td>\n",
       "      <td>cortana what is the average blood pressure</td>\n",
       "    </tr>\n",
       "    <tr>\n",
       "      <th>128</th>\n",
       "      <td>-1</td>\n",
       "      <td>2441538</td>\n",
       "      <td>-1.0</td>\n",
       "      <td>1000204</td>\n",
       "      <td>where is wilson co tn county seat</td>\n",
       "    </tr>\n",
       "    <tr>\n",
       "      <th>130</th>\n",
       "      <td>-1</td>\n",
       "      <td>3797484</td>\n",
       "      <td>-1.0</td>\n",
       "      <td>1000207</td>\n",
       "      <td>where is wilson nc</td>\n",
       "    </tr>\n",
       "    <tr>\n",
       "      <th>140</th>\n",
       "      <td>-1</td>\n",
       "      <td>2964624</td>\n",
       "      <td>-1.0</td>\n",
       "      <td>100022</td>\n",
       "      <td>cortana what is the definition of love</td>\n",
       "    </tr>\n",
       "    <tr>\n",
       "      <th>143</th>\n",
       "      <td>-1</td>\n",
       "      <td>4393147</td>\n",
       "      <td>-1.0</td>\n",
       "      <td>1000226</td>\n",
       "      <td>where is windows program located</td>\n",
       "    </tr>\n",
       "    <tr>\n",
       "      <th>151</th>\n",
       "      <td>-1</td>\n",
       "      <td>2372474</td>\n",
       "      <td>-1.0</td>\n",
       "      <td>100024</td>\n",
       "      <td>cortana what is the do carrots</td>\n",
       "    </tr>\n",
       "  </tbody>\n",
       "</table>\n",
       "</div>"
      ],
      "text/plain": [
       "    rank    docid  score      qid                                       query\n",
       "29    -1  2640014   -1.0  1000041           where is wheat grown mainly state\n",
       "36    -1  4496957   -1.0  1000052               where is whip coral harvested\n",
       "53    -1  4660814   -1.0  1000089                 where is whitehall kentucky\n",
       "60    -1  3943327   -1.0   100010                    cortana what is polygamy\n",
       "94    -1  3035531   -1.0   100015  cortana what is the average blood pressure\n",
       "128   -1  2441538   -1.0  1000204           where is wilson co tn county seat\n",
       "130   -1  3797484   -1.0  1000207                          where is wilson nc\n",
       "140   -1  2964624   -1.0   100022      cortana what is the definition of love\n",
       "143   -1  4393147   -1.0  1000226            where is windows program located\n",
       "151   -1  2372474   -1.0   100024              cortana what is the do carrots"
      ]
     },
     "execution_count": 124,
     "metadata": {},
     "output_type": "execute_result"
    }
   ],
   "source": [
    "queries_without_doc_retrieved"
   ]
  },
  {
   "cell_type": "code",
   "execution_count": 125,
   "id": "3f26dcec",
   "metadata": {},
   "outputs": [],
   "source": [
    "# RETRIEVE THESE DOCUMENTS TO SEE WHAT IS WRONG\n",
    "passages = [(DOCS.iloc[(int(x) - 1)]['passage']) for x in queries_without_doc_retrieved['docid']]"
   ]
  },
  {
   "cell_type": "code",
   "execution_count": 126,
   "id": "cb1ac2ba",
   "metadata": {},
   "outputs": [],
   "source": [
    "queries_without_doc_retrieved['passages'] = passages"
   ]
  },
  {
   "cell_type": "code",
   "execution_count": 127,
   "id": "02362a1d",
   "metadata": {},
   "outputs": [
    {
     "data": {
      "text/html": [
       "<div>\n",
       "<style scoped>\n",
       "    .dataframe tbody tr th:only-of-type {\n",
       "        vertical-align: middle;\n",
       "    }\n",
       "\n",
       "    .dataframe tbody tr th {\n",
       "        vertical-align: top;\n",
       "    }\n",
       "\n",
       "    .dataframe thead th {\n",
       "        text-align: right;\n",
       "    }\n",
       "</style>\n",
       "<table border=\"1\" class=\"dataframe\">\n",
       "  <thead>\n",
       "    <tr style=\"text-align: right;\">\n",
       "      <th></th>\n",
       "      <th>rank</th>\n",
       "      <th>docid</th>\n",
       "      <th>score</th>\n",
       "      <th>qid</th>\n",
       "      <th>query</th>\n",
       "      <th>passages</th>\n",
       "    </tr>\n",
       "  </thead>\n",
       "  <tbody>\n",
       "    <tr>\n",
       "      <th>29</th>\n",
       "      <td>-1</td>\n",
       "      <td>2640014</td>\n",
       "      <td>-1.0</td>\n",
       "      <td>1000041</td>\n",
       "      <td>where is wheat grown mainly state</td>\n",
       "      <td>Punjab, Haryana, Uttar Pradesh, Rajasthan and ...</td>\n",
       "    </tr>\n",
       "    <tr>\n",
       "      <th>36</th>\n",
       "      <td>-1</td>\n",
       "      <td>4496957</td>\n",
       "      <td>-1.0</td>\n",
       "      <td>1000052</td>\n",
       "      <td>where is whip coral harvested</td>\n",
       "      <td>Clearly, this is an important field of study f...</td>\n",
       "    </tr>\n",
       "    <tr>\n",
       "      <th>53</th>\n",
       "      <td>-1</td>\n",
       "      <td>4660814</td>\n",
       "      <td>-1.0</td>\n",
       "      <td>1000089</td>\n",
       "      <td>where is whitehall kentucky</td>\n",
       "      <td>Jupiter's moons. Each of the gas giant planets...</td>\n",
       "    </tr>\n",
       "    <tr>\n",
       "      <th>60</th>\n",
       "      <td>-1</td>\n",
       "      <td>3943327</td>\n",
       "      <td>-1.0</td>\n",
       "      <td>100010</td>\n",
       "      <td>cortana what is polygamy</td>\n",
       "      <td>Recent Examples of polygamy from the Web. 1  B...</td>\n",
       "    </tr>\n",
       "    <tr>\n",
       "      <th>94</th>\n",
       "      <td>-1</td>\n",
       "      <td>3035531</td>\n",
       "      <td>-1.0</td>\n",
       "      <td>100015</td>\n",
       "      <td>cortana what is the average blood pressure</td>\n",
       "      <td>Ideally, we should all have a blood pressure b...</td>\n",
       "    </tr>\n",
       "    <tr>\n",
       "      <th>128</th>\n",
       "      <td>-1</td>\n",
       "      <td>2441538</td>\n",
       "      <td>-1.0</td>\n",
       "      <td>1000204</td>\n",
       "      <td>where is wilson co tn county seat</td>\n",
       "      <td>Written by: Amelia Morrison Hipps September 10...</td>\n",
       "    </tr>\n",
       "    <tr>\n",
       "      <th>130</th>\n",
       "      <td>-1</td>\n",
       "      <td>3797484</td>\n",
       "      <td>-1.0</td>\n",
       "      <td>1000207</td>\n",
       "      <td>where is wilson nc</td>\n",
       "      <td>There could not be a better start for my unive...</td>\n",
       "    </tr>\n",
       "    <tr>\n",
       "      <th>140</th>\n",
       "      <td>-1</td>\n",
       "      <td>2964624</td>\n",
       "      <td>-1.0</td>\n",
       "      <td>100022</td>\n",
       "      <td>cortana what is the definition of love</td>\n",
       "      <td>Examples of jones in a sentence. 1  that dude ...</td>\n",
       "    </tr>\n",
       "    <tr>\n",
       "      <th>143</th>\n",
       "      <td>-1</td>\n",
       "      <td>4393147</td>\n",
       "      <td>-1.0</td>\n",
       "      <td>1000226</td>\n",
       "      <td>where is windows program located</td>\n",
       "      <td>To open the certain program folder, -path pres...</td>\n",
       "    </tr>\n",
       "    <tr>\n",
       "      <th>151</th>\n",
       "      <td>-1</td>\n",
       "      <td>2372474</td>\n",
       "      <td>-1.0</td>\n",
       "      <td>100024</td>\n",
       "      <td>cortana what is the do carrots</td>\n",
       "      <td>Not all of the chemical constituents of carrot...</td>\n",
       "    </tr>\n",
       "  </tbody>\n",
       "</table>\n",
       "</div>"
      ],
      "text/plain": [
       "    rank    docid  score      qid                                       query  \\\n",
       "29    -1  2640014   -1.0  1000041           where is wheat grown mainly state   \n",
       "36    -1  4496957   -1.0  1000052               where is whip coral harvested   \n",
       "53    -1  4660814   -1.0  1000089                 where is whitehall kentucky   \n",
       "60    -1  3943327   -1.0   100010                    cortana what is polygamy   \n",
       "94    -1  3035531   -1.0   100015  cortana what is the average blood pressure   \n",
       "128   -1  2441538   -1.0  1000204           where is wilson co tn county seat   \n",
       "130   -1  3797484   -1.0  1000207                          where is wilson nc   \n",
       "140   -1  2964624   -1.0   100022      cortana what is the definition of love   \n",
       "143   -1  4393147   -1.0  1000226            where is windows program located   \n",
       "151   -1  2372474   -1.0   100024              cortana what is the do carrots   \n",
       "\n",
       "                                              passages  \n",
       "29   Punjab, Haryana, Uttar Pradesh, Rajasthan and ...  \n",
       "36   Clearly, this is an important field of study f...  \n",
       "53   Jupiter's moons. Each of the gas giant planets...  \n",
       "60   Recent Examples of polygamy from the Web. 1  B...  \n",
       "94   Ideally, we should all have a blood pressure b...  \n",
       "128  Written by: Amelia Morrison Hipps September 10...  \n",
       "130  There could not be a better start for my unive...  \n",
       "140  Examples of jones in a sentence. 1  that dude ...  \n",
       "143  To open the certain program folder, -path pres...  \n",
       "151  Not all of the chemical constituents of carrot...  "
      ]
     },
     "execution_count": 127,
     "metadata": {},
     "output_type": "execute_result"
    }
   ],
   "source": [
    "# FOR THOSE QUERIES WITH A QREL, NOW THE PASSAGES ARE FOUND BY US IN THE DOCUMENT AND ATTACHED\n",
    "queries_without_doc_retrieved"
   ]
  },
  {
   "cell_type": "code",
   "execution_count": null,
   "id": "b45145a3",
   "metadata": {},
   "outputs": [],
   "source": [
    "queries_without_doc_retrieved[queries_without_doc_retrieved['qid'] == str(1000041)]['passages']"
   ]
  },
  {
   "cell_type": "code",
   "execution_count": 128,
   "id": "db583fd9",
   "metadata": {},
   "outputs": [],
   "source": [
    "queries_without_doc_retrieved.to_csv(\"QUERIES_WITHOUT_DOC_IN_RETRIEVAL_WITHQREL.csv\", index=False)"
   ]
  },
  {
   "cell_type": "code",
   "execution_count": null,
   "id": "7ad33441",
   "metadata": {},
   "outputs": [],
   "source": [
    "# Model built with all the queries (regardless of they have qrels), and evaluation is where we are using \n",
    "# the qrels to determine the relevancy (intstrument to give the final score)\n",
    "\n",
    "# Given the query, with its qrel, these documents were not retrieved.\n",
    "# So either the query is wrong or the less likely case is that the qrel is wrong\n",
    "# Assuming the query is wrong, possibilities that causes the system to malfunctio the system is because...\n",
    "# - Perhaps the document is not classified as relevant because either the query or the passage using synomyms "
   ]
  },
  {
   "cell_type": "code",
   "execution_count": null,
   "id": "58889d17",
   "metadata": {},
   "outputs": [],
   "source": [
    "# ERROR ANALYSIS - BM25 - ALL\n",
    "# - (WIP)Julian: Need to determine for which queries (with qrel) the document is not retrived?\n",
    "#   - And provided reasons for this\n",
    "# - (WIP/DONE)Julian:Least performing queries (with qrels), provide the best performing documents,\n",
    "#    what can we say about them?\n",
    "# - (see Google docs for extra is time allows)\n",
    "# IMPROVEMENTS - BM25 (ask the teacher if we need to do error analysis on these as well? - nice to have)\n",
    "# - Julian : Query expansion \n",
    "# - Varnika + Monice : error analysis\n",
    "# - All : SIGNIFICANCE TESTING BETWEEN BM25 AND IMPROVEMENTS (see Pyterrier)\n",
    "#---------------------------------------------------------------------------------------------------------------------\n",
    "# Julian : INDEXING L2R\n",
    "# - WIP\n",
    "# Julian : IMPLEMENTING BASELINE (L2R)\n",
    "# - WIP\n",
    "# (maybe verify with the teacher just to be sure that this is everything that needs to be done)\n",
    "#---------------------------------------------------------------------------------------------------------------------\n",
    "# REPORT (All)\n",
    "# - Update the report according to the feedback we receive from the teacher/TA\n",
    "# - Extend the report where needed\n",
    "#---------------------------------------------------------------------------------------------------------------------\n",
    "# STUDY!\n",
    "# - Queations about the prodcut, reason why we did something instead of something else\n",
    "# - Or ask questions about theory of the course, and why we choose to use BM25 instead of other model\n",
    "#---------------------------------------------------------------------------------------------------------------------\n",
    "# (DONE)Julian : send email Claudi + GitHub\n",
    "# - Should do the error analysis also on the improvements similar to what we had for the baseline BM25?\n",
    "# - Do the images count towards the page limit?\n",
    "#---------------------------------------------------------------------------------------------------------------------\n",
    "# Next meeting either Thursday or Friday"
   ]
  }
 ],
 "metadata": {
  "kernelspec": {
   "display_name": "Python 3",
   "language": "python",
   "name": "python3"
  },
  "language_info": {
   "codemirror_mode": {
    "name": "ipython",
    "version": 3
   },
   "file_extension": ".py",
   "mimetype": "text/x-python",
   "name": "python",
   "nbconvert_exporter": "python",
   "pygments_lexer": "ipython3",
   "version": "3.8.8"
  }
 },
 "nbformat": 4,
 "nbformat_minor": 5
}
