{
 "cells": [
  {
   "cell_type": "code",
   "execution_count": 1,
   "id": "d99bcb98",
   "metadata": {},
   "outputs": [
    {
     "name": "stderr",
     "output_type": "stream",
     "text": [
      "PyTerrier 0.8.0 has loaded Terrier 5.6 (built by craigmacdonald on 2021-09-17 13:27)\n",
      "\n"
     ]
    }
   ],
   "source": [
    "# Import all the needed libraries\n",
    "import pyterrier as pt\n",
    "import pandas as pd\n",
    "from tqdm import tqdm\n",
    "import numpy as np\n",
    "import matplotlib.pyplot as plt\n",
    "import algos\n",
    "import os\n",
    "if not pt.started():\n",
    "    pt.init()"
   ]
  },
  {
   "cell_type": "code",
   "execution_count": 2,
   "id": "b6937e89",
   "metadata": {},
   "outputs": [],
   "source": [
    "# Load the dataset\n",
    "dataset = pt.datasets.get_dataset(\"trec-deep-learning-passages\")"
   ]
  },
  {
   "cell_type": "code",
   "execution_count": 3,
   "id": "4c194fa0",
   "metadata": {},
   "outputs": [],
   "source": [
    "index_ref = pt.IndexRef.of(os.getcwd() + \"./passage_index/data.properties\")"
   ]
  },
  {
   "cell_type": "code",
   "execution_count": 4,
   "id": "2b3aa975",
   "metadata": {},
   "outputs": [
    {
     "name": "stdout",
     "output_type": "stream",
     "text": [
      "20:20:35.814 [main] WARN org.terrier.structures.BaseCompressingMetaIndex - Structure meta reading data file directly from disk (SLOW) - try index.meta.data-source=fileinmem in the index properties file. 1,9 GiB of memory would be required.\r\n"
     ]
    }
   ],
   "source": [
    "index = pt.IndexFactory.of(index_ref)"
   ]
  },
  {
   "cell_type": "code",
   "execution_count": 5,
   "id": "9380dec4",
   "metadata": {},
   "outputs": [],
   "source": [
    "pipeline = pt.FeaturesBatchRetrieve(index, wmodel=\"BM25\", features=[\"WMODEL:Tf\", \"WMODEL:PL2\"])"
   ]
  },
  {
   "cell_type": "code",
   "execution_count": 6,
   "id": "48f34430",
   "metadata": {},
   "outputs": [
    {
     "name": "stdout",
     "output_type": "stream",
     "text": [
      "20:20:35.894 [main] WARN org.terrier.applications.batchquerying.TRECQuery - trec.encoding is not set; resorting to platform default (windows-1252). Retrieval may be platform dependent. Recommend trec.encoding=UTF-8\r\n"
     ]
    }
   ],
   "source": [
    "train_topics = dataset.get_topics(\"train\").iloc[0:100]\n",
    "train_qrels = dataset.get_qrels(\"train\")"
   ]
  },
  {
   "cell_type": "code",
   "execution_count": 7,
   "id": "75710d1d",
   "metadata": {},
   "outputs": [],
   "source": [
    "import time\n",
    "start_time = time.time()"
   ]
  },
  {
   "cell_type": "code",
   "execution_count": 8,
   "id": "23b4c7a3",
   "metadata": {},
   "outputs": [],
   "source": [
    "from sklearn.ensemble import RandomForestRegressor\n",
    "rf = RandomForestRegressor(n_estimators=400)\n",
    "rf_pipe = pipeline >> pt.ltr.apply_learned_model(rf)\n",
    "rf_pipe.fit(train_topics, train_qrels)"
   ]
  },
  {
   "cell_type": "code",
   "execution_count": 9,
   "id": "a7dbf5f6",
   "metadata": {},
   "outputs": [
    {
     "name": "stdout",
     "output_type": "stream",
     "text": [
      "--- 3199.8517322540283 seconds ---\n"
     ]
    }
   ],
   "source": [
    "print(\"--- %s seconds ---\" % (time.time() - start_time))"
   ]
  },
  {
   "cell_type": "code",
   "execution_count": 10,
   "id": "c4e8cb09",
   "metadata": {},
   "outputs": [
    {
     "name": "stdout",
     "output_type": "stream",
     "text": [
      "21:14:03.743 [main] WARN org.terrier.applications.batchquerying.TRECQuery - trec.encoding is not set; resorting to platform default (windows-1252). Retrieval may be platform dependent. Recommend trec.encoding=UTF-8\r\n"
     ]
    },
    {
     "data": {
      "text/html": [
       "<div>\n",
       "<style scoped>\n",
       "    .dataframe tbody tr th:only-of-type {\n",
       "        vertical-align: middle;\n",
       "    }\n",
       "\n",
       "    .dataframe tbody tr th {\n",
       "        vertical-align: top;\n",
       "    }\n",
       "\n",
       "    .dataframe thead th {\n",
       "        text-align: right;\n",
       "    }\n",
       "</style>\n",
       "<table border=\"1\" class=\"dataframe\">\n",
       "  <thead>\n",
       "    <tr style=\"text-align: right;\">\n",
       "      <th></th>\n",
       "      <th>name</th>\n",
       "      <th>map</th>\n",
       "    </tr>\n",
       "  </thead>\n",
       "  <tbody>\n",
       "    <tr>\n",
       "      <th>0</th>\n",
       "      <td>LTR</td>\n",
       "      <td>0.086134</td>\n",
       "    </tr>\n",
       "  </tbody>\n",
       "</table>\n",
       "</div>"
      ],
      "text/plain": [
       "  name       map\n",
       "0  LTR  0.086134"
      ]
     },
     "execution_count": 10,
     "metadata": {},
     "output_type": "execute_result"
    }
   ],
   "source": [
    "pt.Experiment([rf_pipe], dataset.get_topics(\"test-2019\"), \n",
    "  dataset.get_qrels(\"test-2019\"), [\"map\"], names=[\"LTR\"])"
   ]
  },
  {
   "cell_type": "code",
   "execution_count": null,
   "id": "2c01898a",
   "metadata": {},
   "outputs": [],
   "source": [
    "# Start 20:20"
   ]
  },
  {
   "cell_type": "code",
   "execution_count": 24,
   "id": "df3bc239",
   "metadata": {},
   "outputs": [],
   "source": [
    "# Here comes a visualization of the graph\n",
    "# https://stackoverflow.com/questions/40155128/plot-trees-for-a-random-forest-in-python-with-scikit-learn"
   ]
  },
  {
   "cell_type": "code",
   "execution_count": null,
   "id": "2e68e00f",
   "metadata": {},
   "outputs": [],
   "source": []
  }
 ],
 "metadata": {
  "kernelspec": {
   "display_name": "Python 3",
   "language": "python",
   "name": "python3"
  },
  "language_info": {
   "codemirror_mode": {
    "name": "ipython",
    "version": 3
   },
   "file_extension": ".py",
   "mimetype": "text/x-python",
   "name": "python",
   "nbconvert_exporter": "python",
   "pygments_lexer": "ipython3",
   "version": "3.8.8"
  }
 },
 "nbformat": 4,
 "nbformat_minor": 5
}
