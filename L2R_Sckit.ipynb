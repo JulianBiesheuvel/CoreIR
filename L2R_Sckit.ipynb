{
  "cells": [
    {
      "cell_type": "markdown",
      "source": [
        "In this notebook we run the L2R baseline."
      ],
      "metadata": {
        "id": "WWQfgODaoiJE"
      },
      "id": "WWQfgODaoiJE"
    },
    {
      "cell_type": "code",
      "execution_count": null,
      "id": "d99bcb98",
      "metadata": {
        "id": "d99bcb98",
        "outputId": "aabbb273-f260-4a61-90b8-77769195d759"
      },
      "outputs": [
        {
          "name": "stderr",
          "output_type": "stream",
          "text": [
            "PyTerrier 0.8.0 has loaded Terrier 5.6 (built by craigmacdonald on 2021-09-17 13:27)\n",
            "\n"
          ]
        }
      ],
      "source": [
        "# Import all the needed libraries\n",
        "import pyterrier as pt\n",
        "import pandas as pd\n",
        "from tqdm import tqdm\n",
        "import numpy as np\n",
        "import matplotlib.pyplot as plt\n",
        "import algos\n",
        "import os\n",
        "if not pt.started():\n",
        "    pt.init()"
      ]
    },
    {
      "cell_type": "code",
      "execution_count": null,
      "id": "b6937e89",
      "metadata": {
        "id": "b6937e89"
      },
      "outputs": [],
      "source": [
        "# Load the dataset\n",
        "dataset = pt.datasets.get_dataset(\"trec-deep-learning-passages\")"
      ]
    },
    {
      "cell_type": "code",
      "execution_count": null,
      "id": "4c194fa0",
      "metadata": {
        "id": "4c194fa0"
      },
      "outputs": [],
      "source": [
        "index_ref = pt.IndexRef.of(os.getcwd() + \"./passage_index/data.properties\")"
      ]
    },
    {
      "cell_type": "code",
      "execution_count": null,
      "id": "2b3aa975",
      "metadata": {
        "id": "2b3aa975",
        "outputId": "b1901c8a-72d0-4851-a701-17baf0079171"
      },
      "outputs": [
        {
          "name": "stdout",
          "output_type": "stream",
          "text": [
            "14:21:53.612 [main] WARN org.terrier.structures.BaseCompressingMetaIndex - Structure meta reading data file directly from disk (SLOW) - try index.meta.data-source=fileinmem in the index properties file. 1,9 GiB of memory would be required.\r\n"
          ]
        }
      ],
      "source": [
        "index = pt.IndexFactory.of(index_ref)"
      ]
    },
    {
      "cell_type": "code",
      "execution_count": null,
      "id": "9380dec4",
      "metadata": {
        "id": "9380dec4"
      },
      "outputs": [],
      "source": [
        "pipeline = pt.FeaturesBatchRetrieve(index, wmodel=\"BM25\", features=[\"WMODEL:Tf\", \"WMODEL:PL2\"])"
      ]
    },
    {
      "cell_type": "code",
      "execution_count": null,
      "id": "48f34430",
      "metadata": {
        "id": "48f34430",
        "outputId": "0cb80cb6-064f-49a2-b4d8-bc58983f271e"
      },
      "outputs": [
        {
          "name": "stdout",
          "output_type": "stream",
          "text": [
            "14:21:53.703 [main] WARN org.terrier.applications.batchquerying.TRECQuery - trec.encoding is not set; resorting to platform default (windows-1252). Retrieval may be platform dependent. Recommend trec.encoding=UTF-8\r\n"
          ]
        }
      ],
      "source": [
        "train_topics = dataset.get_topics(\"train\")\n",
        "train_qrels = dataset.get_qrels(\"train\")"
      ]
    },
    {
      "cell_type": "code",
      "execution_count": null,
      "id": "9362dffc",
      "metadata": {
        "id": "9362dffc"
      },
      "outputs": [],
      "source": [
        "train_topics = train_topics.sort_values(by='qid', ascending=True)[3:]\n",
        "train_qrels = train_qrels.sort_values(by='qid', ascending=True)[3:]"
      ]
    },
    {
      "cell_type": "code",
      "execution_count": null,
      "id": "6dacb19c",
      "metadata": {
        "id": "6dacb19c"
      },
      "outputs": [],
      "source": [
        "# A simple join operation on the qids, as we have much more queries than qrels, we want to only use those\n",
        "# queries with a qrel for optimal training performances. \n",
        "temp = pd.merge(train_topics, train_qrels, left_on='qid', right_on='qid')"
      ]
    },
    {
      "cell_type": "code",
      "execution_count": null,
      "id": "ec23853b",
      "metadata": {
        "id": "ec23853b",
        "outputId": "b42be0d3-2c4b-4845-f6a4-15f5ffb4ce73"
      },
      "outputs": [
        {
          "data": {
            "text/html": [
              "<div>\n",
              "<style scoped>\n",
              "    .dataframe tbody tr th:only-of-type {\n",
              "        vertical-align: middle;\n",
              "    }\n",
              "\n",
              "    .dataframe tbody tr th {\n",
              "        vertical-align: top;\n",
              "    }\n",
              "\n",
              "    .dataframe thead th {\n",
              "        text-align: right;\n",
              "    }\n",
              "</style>\n",
              "<table border=\"1\" class=\"dataframe\">\n",
              "  <thead>\n",
              "    <tr style=\"text-align: right;\">\n",
              "      <th></th>\n",
              "      <th>qid</th>\n",
              "      <th>query</th>\n",
              "    </tr>\n",
              "  </thead>\n",
              "  <tbody>\n",
              "    <tr>\n",
              "      <th>0</th>\n",
              "      <td>1000005</td>\n",
              "      <td>where is westminster california</td>\n",
              "    </tr>\n",
              "    <tr>\n",
              "      <th>1</th>\n",
              "      <td>1000007</td>\n",
              "      <td>where is westminster ma</td>\n",
              "    </tr>\n",
              "    <tr>\n",
              "      <th>2</th>\n",
              "      <td>1000008</td>\n",
              "      <td>where is westminster md</td>\n",
              "    </tr>\n",
              "    <tr>\n",
              "      <th>3</th>\n",
              "      <td>1000009</td>\n",
              "      <td>where is westmont illinois located</td>\n",
              "    </tr>\n",
              "    <tr>\n",
              "      <th>4</th>\n",
              "      <td>1000010</td>\n",
              "      <td>where is westmoreland</td>\n",
              "    </tr>\n",
              "    <tr>\n",
              "      <th>...</th>\n",
              "      <td>...</td>\n",
              "      <td>...</td>\n",
              "    </tr>\n",
              "    <tr>\n",
              "      <th>95</th>\n",
              "      <td>100015</td>\n",
              "      <td>cortana what is the average blood pressure</td>\n",
              "    </tr>\n",
              "    <tr>\n",
              "      <th>96</th>\n",
              "      <td>1000150</td>\n",
              "      <td>where is willard north carolina</td>\n",
              "    </tr>\n",
              "    <tr>\n",
              "      <th>97</th>\n",
              "      <td>1000153</td>\n",
              "      <td>where is william brewster buried</td>\n",
              "    </tr>\n",
              "    <tr>\n",
              "      <th>98</th>\n",
              "      <td>1000154</td>\n",
              "      <td>where is william key buried</td>\n",
              "    </tr>\n",
              "    <tr>\n",
              "      <th>99</th>\n",
              "      <td>1000155</td>\n",
              "      <td>where is william levy from</td>\n",
              "    </tr>\n",
              "  </tbody>\n",
              "</table>\n",
              "<p>100 rows × 2 columns</p>\n",
              "</div>"
            ],
            "text/plain": [
              "        qid                                       query\n",
              "0   1000005             where is westminster california\n",
              "1   1000007                     where is westminster ma\n",
              "2   1000008                     where is westminster md\n",
              "3   1000009          where is westmont illinois located\n",
              "4   1000010                       where is westmoreland\n",
              "..      ...                                         ...\n",
              "95   100015  cortana what is the average blood pressure\n",
              "96  1000150             where is willard north carolina\n",
              "97  1000153            where is william brewster buried\n",
              "98  1000154                 where is william key buried\n",
              "99  1000155                  where is william levy from\n",
              "\n",
              "[100 rows x 2 columns]"
            ]
          },
          "execution_count": 10,
          "metadata": {},
          "output_type": "execute_result"
        }
      ],
      "source": [
        "# Make the new train_topics dataframe with only those queries that have a qrel\n",
        "train_topics_100 = pd.concat([temp['qid'], temp['query']], axis=1, keys=['qid', 'query'])\n",
        "train_topics_100.head(100)"
      ]
    },
    {
      "cell_type": "code",
      "execution_count": null,
      "id": "5b29eadd",
      "metadata": {
        "id": "5b29eadd",
        "outputId": "756a86e0-4d6c-4d65-b9c6-0731a5011e1c"
      },
      "outputs": [
        {
          "data": {
            "text/html": [
              "<div>\n",
              "<style scoped>\n",
              "    .dataframe tbody tr th:only-of-type {\n",
              "        vertical-align: middle;\n",
              "    }\n",
              "\n",
              "    .dataframe tbody tr th {\n",
              "        vertical-align: top;\n",
              "    }\n",
              "\n",
              "    .dataframe thead th {\n",
              "        text-align: right;\n",
              "    }\n",
              "</style>\n",
              "<table border=\"1\" class=\"dataframe\">\n",
              "  <thead>\n",
              "    <tr style=\"text-align: right;\">\n",
              "      <th></th>\n",
              "      <th>qid</th>\n",
              "      <th>docno</th>\n",
              "      <th>label</th>\n",
              "    </tr>\n",
              "  </thead>\n",
              "  <tbody>\n",
              "    <tr>\n",
              "      <th>0</th>\n",
              "      <td>1000005</td>\n",
              "      <td>3617173</td>\n",
              "      <td>1</td>\n",
              "    </tr>\n",
              "    <tr>\n",
              "      <th>1</th>\n",
              "      <td>1000007</td>\n",
              "      <td>5939245</td>\n",
              "      <td>1</td>\n",
              "    </tr>\n",
              "    <tr>\n",
              "      <th>2</th>\n",
              "      <td>1000008</td>\n",
              "      <td>4630854</td>\n",
              "      <td>1</td>\n",
              "    </tr>\n",
              "    <tr>\n",
              "      <th>3</th>\n",
              "      <td>1000009</td>\n",
              "      <td>1728286</td>\n",
              "      <td>1</td>\n",
              "    </tr>\n",
              "    <tr>\n",
              "      <th>4</th>\n",
              "      <td>1000010</td>\n",
              "      <td>4186186</td>\n",
              "      <td>1</td>\n",
              "    </tr>\n",
              "    <tr>\n",
              "      <th>...</th>\n",
              "      <td>...</td>\n",
              "      <td>...</td>\n",
              "      <td>...</td>\n",
              "    </tr>\n",
              "    <tr>\n",
              "      <th>95</th>\n",
              "      <td>100015</td>\n",
              "      <td>3035531</td>\n",
              "      <td>1</td>\n",
              "    </tr>\n",
              "    <tr>\n",
              "      <th>96</th>\n",
              "      <td>1000150</td>\n",
              "      <td>3598087</td>\n",
              "      <td>1</td>\n",
              "    </tr>\n",
              "    <tr>\n",
              "      <th>97</th>\n",
              "      <td>1000153</td>\n",
              "      <td>3606427</td>\n",
              "      <td>1</td>\n",
              "    </tr>\n",
              "    <tr>\n",
              "      <th>98</th>\n",
              "      <td>1000154</td>\n",
              "      <td>4609289</td>\n",
              "      <td>1</td>\n",
              "    </tr>\n",
              "    <tr>\n",
              "      <th>99</th>\n",
              "      <td>1000155</td>\n",
              "      <td>5288315</td>\n",
              "      <td>1</td>\n",
              "    </tr>\n",
              "  </tbody>\n",
              "</table>\n",
              "<p>100 rows × 3 columns</p>\n",
              "</div>"
            ],
            "text/plain": [
              "        qid    docno  label\n",
              "0   1000005  3617173      1\n",
              "1   1000007  5939245      1\n",
              "2   1000008  4630854      1\n",
              "3   1000009  1728286      1\n",
              "4   1000010  4186186      1\n",
              "..      ...      ...    ...\n",
              "95   100015  3035531      1\n",
              "96  1000150  3598087      1\n",
              "97  1000153  3606427      1\n",
              "98  1000154  4609289      1\n",
              "99  1000155  5288315      1\n",
              "\n",
              "[100 rows x 3 columns]"
            ]
          },
          "execution_count": 11,
          "metadata": {},
          "output_type": "execute_result"
        }
      ],
      "source": [
        "train_qrel_100 = pd.concat([temp['qid'], temp['docno'], temp['label']], axis=1, keys=['qid', 'docno', 'label'])\n",
        "train_qrel_100.head(100)"
      ]
    },
    {
      "cell_type": "code",
      "execution_count": null,
      "id": "75710d1d",
      "metadata": {
        "id": "75710d1d"
      },
      "outputs": [],
      "source": [
        "import time\n",
        "start_time = time.time()"
      ]
    },
    {
      "cell_type": "code",
      "execution_count": null,
      "id": "23b4c7a3",
      "metadata": {
        "id": "23b4c7a3"
      },
      "outputs": [],
      "source": [
        "from sklearn.ensemble import RandomForestRegressor\n",
        "rf = RandomForestRegressor(n_estimators=400)\n",
        "rf_pipe = pipeline >> pt.ltr.apply_learned_model(rf)\n",
        "rf_pipe.fit(train_topics_100.head(100), train_qrel_100.head(100))"
      ]
    },
    {
      "cell_type": "code",
      "execution_count": null,
      "id": "a7dbf5f6",
      "metadata": {
        "id": "a7dbf5f6",
        "outputId": "b4ee8461-8296-42b9-e4a5-aab7644c403c"
      },
      "outputs": [
        {
          "name": "stdout",
          "output_type": "stream",
          "text": [
            "--- 1161.2626819610596 seconds ---\n"
          ]
        }
      ],
      "source": [
        "print(\"--- %s seconds ---\" % (time.time() - start_time))"
      ]
    },
    {
      "cell_type": "code",
      "execution_count": null,
      "id": "b0b96cfa",
      "metadata": {
        "id": "b0b96cfa"
      },
      "outputs": [],
      "source": [
        "start_time = time.time()"
      ]
    },
    {
      "cell_type": "code",
      "execution_count": null,
      "id": "c4e8cb09",
      "metadata": {
        "id": "c4e8cb09",
        "outputId": "14aebd78-28b9-4e30-9e16-ad8023d4f9d4"
      },
      "outputs": [
        {
          "name": "stdout",
          "output_type": "stream",
          "text": [
            "14:41:29.826 [main] WARN org.terrier.applications.batchquerying.TRECQuery - trec.encoding is not set; resorting to platform default (windows-1252). Retrieval may be platform dependent. Recommend trec.encoding=UTF-8\r\n"
          ]
        },
        {
          "data": {
            "text/html": [
              "<div>\n",
              "<style scoped>\n",
              "    .dataframe tbody tr th:only-of-type {\n",
              "        vertical-align: middle;\n",
              "    }\n",
              "\n",
              "    .dataframe tbody tr th {\n",
              "        vertical-align: top;\n",
              "    }\n",
              "\n",
              "    .dataframe thead th {\n",
              "        text-align: right;\n",
              "    }\n",
              "</style>\n",
              "<table border=\"1\" class=\"dataframe\">\n",
              "  <thead>\n",
              "    <tr style=\"text-align: right;\">\n",
              "      <th></th>\n",
              "      <th>name</th>\n",
              "      <th>ndcg</th>\n",
              "      <th>map</th>\n",
              "      <th>recip_rank</th>\n",
              "    </tr>\n",
              "  </thead>\n",
              "  <tbody>\n",
              "    <tr>\n",
              "      <th>0</th>\n",
              "      <td>LTR</td>\n",
              "      <td>0.37094</td>\n",
              "      <td>0.084299</td>\n",
              "      <td>0.118964</td>\n",
              "    </tr>\n",
              "  </tbody>\n",
              "</table>\n",
              "</div>"
            ],
            "text/plain": [
              "  name     ndcg       map  recip_rank\n",
              "0  LTR  0.37094  0.084299    0.118964"
            ]
          },
          "execution_count": 16,
          "metadata": {},
          "output_type": "execute_result"
        }
      ],
      "source": [
        "pt.Experiment([rf_pipe], dataset.get_topics(\"test-2019\"), \n",
        "  dataset.get_qrels(\"test-2019\"),eval_metrics=[\"ndcg\", \"map\", \"recip_rank\"], names=[\"LTR\"])"
      ]
    },
    {
      "cell_type": "code",
      "execution_count": null,
      "id": "2c01898a",
      "metadata": {
        "id": "2c01898a",
        "outputId": "e5096de1-aed9-49a2-f053-468c6d4009e8"
      },
      "outputs": [
        {
          "name": "stdout",
          "output_type": "stream",
          "text": [
            "--- 5477.988292694092 seconds ---\n"
          ]
        }
      ],
      "source": [
        "print(\"--- %s seconds ---\" % (time.time() - start_time))"
      ]
    }
  ],
  "metadata": {
    "kernelspec": {
      "display_name": "Python 3",
      "language": "python",
      "name": "python3"
    },
    "language_info": {
      "codemirror_mode": {
        "name": "ipython",
        "version": 3
      },
      "file_extension": ".py",
      "mimetype": "text/x-python",
      "name": "python",
      "nbconvert_exporter": "python",
      "pygments_lexer": "ipython3",
      "version": "3.8.8"
    },
    "colab": {
      "name": "L2R_Sckit.ipynb",
      "provenance": []
    }
  },
  "nbformat": 4,
  "nbformat_minor": 5
}