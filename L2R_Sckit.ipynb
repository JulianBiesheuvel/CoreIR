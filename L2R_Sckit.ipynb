{
 "cells": [
  {
   "cell_type": "code",
   "execution_count": null,
   "id": "d99bcb98",
   "metadata": {},
   "outputs": [],
   "source": [
    "# Import all the needed libraries\n",
    "import pyterrier as pt\n",
    "import pandas as pd\n",
    "from tqdm import tqdm\n",
    "import numpy as np\n",
    "import matplotlib.pyplot as plt\n",
    "import algos\n",
    "import os\n",
    "if not pt.started():\n",
    "    pt.init()"
   ]
  },
  {
   "cell_type": "code",
   "execution_count": null,
   "id": "b6937e89",
   "metadata": {},
   "outputs": [],
   "source": [
    "# Load the dataset\n",
    "dataset = pt.datasets.get_dataset(\"trec-deep-learning-passages\")"
   ]
  },
  {
   "cell_type": "code",
   "execution_count": null,
   "id": "4c194fa0",
   "metadata": {},
   "outputs": [],
   "source": [
    "index_ref = pt.IndexRef.of(os.getcwd() + \"./passage_index/data.properties\")"
   ]
  },
  {
   "cell_type": "code",
   "execution_count": null,
   "id": "2b3aa975",
   "metadata": {},
   "outputs": [],
   "source": [
    "index = pt.IndexFactory.of(index_ref)"
   ]
  },
  {
   "cell_type": "code",
   "execution_count": null,
   "id": "9380dec4",
   "metadata": {},
   "outputs": [],
   "source": [
    "pipeline = pt.FeaturesBatchRetrieve(index, wmodel=\"BM25\", features=[\"WMODEL:Tf\", \"WMODEL:PL2\"])"
   ]
  },
  {
   "cell_type": "code",
   "execution_count": null,
   "id": "48f34430",
   "metadata": {},
   "outputs": [],
   "source": [
    "train_topics = dataset.get_topics(\"train\").iloc[0:100]\n",
    "train_qrels = dataset.get_qrels(\"train\")"
   ]
  },
  {
   "cell_type": "code",
   "execution_count": null,
   "id": "75710d1d",
   "metadata": {},
   "outputs": [],
   "source": [
    "import time\n",
    "start_time = time.time()"
   ]
  },
  {
   "cell_type": "code",
   "execution_count": null,
   "id": "23b4c7a3",
   "metadata": {},
   "outputs": [],
   "source": [
    "from sklearn.ensemble import RandomForestRegressor\n",
    "rf = RandomForestRegressor(n_estimators=400)\n",
    "rf_pipe = pipeline >> pt.ltr.apply_learned_model(rf)\n",
    "rf_pipe.fit(train_topics, train_qrels)"
   ]
  },
  {
   "cell_type": "code",
   "execution_count": null,
   "id": "a7dbf5f6",
   "metadata": {},
   "outputs": [],
   "source": [
    "print(\"--- %s seconds ---\" % (time.time() - start_time))"
   ]
  },
  {
   "cell_type": "code",
   "execution_count": null,
   "id": "c4e8cb09",
   "metadata": {},
   "outputs": [],
   "source": [
    "pt.Experiment([rf_pipe], dataset.get_topics(\"test-2019\"), \n",
    "  dataset.get_qrels(\"test-2019\"), [\"map\"], names=[\"LTR\"])"
   ]
  },
  {
   "cell_type": "code",
   "execution_count": null,
   "id": "2c01898a",
   "metadata": {},
   "outputs": [],
   "source": [
    "# Start 18:08"
   ]
  }
 ],
 "metadata": {
  "kernelspec": {
   "display_name": "Python 3",
   "language": "python",
   "name": "python3"
  },
  "language_info": {
   "codemirror_mode": {
    "name": "ipython",
    "version": 3
   },
   "file_extension": ".py",
   "mimetype": "text/x-python",
   "name": "python",
   "nbconvert_exporter": "python",
   "pygments_lexer": "ipython3",
   "version": "3.8.8"
  }
 },
 "nbformat": 4,
 "nbformat_minor": 5
}
